{
 "cells": [
  {
   "cell_type": "code",
   "execution_count": 1,
   "id": "8e43f328",
   "metadata": {},
   "outputs": [
    {
     "ename": "ModuleNotFoundError",
     "evalue": "No module named 'seaborn'",
     "output_type": "error",
     "traceback": [
      "\u001b[31m---------------------------------------------------------------------------\u001b[39m",
      "\u001b[31mModuleNotFoundError\u001b[39m                       Traceback (most recent call last)",
      "\u001b[36mCell\u001b[39m\u001b[36m \u001b[39m\u001b[32mIn[1]\u001b[39m\u001b[32m, line 5\u001b[39m\n\u001b[32m      3\u001b[39m \u001b[38;5;28;01mimport\u001b[39;00m\u001b[38;5;250m \u001b[39m\u001b[34;01mmatplotlib\u001b[39;00m\u001b[34;01m.\u001b[39;00m\u001b[34;01mpyplot\u001b[39;00m\u001b[38;5;250m \u001b[39m\u001b[38;5;28;01mas\u001b[39;00m\u001b[38;5;250m \u001b[39m\u001b[34;01mplt\u001b[39;00m\n\u001b[32m      4\u001b[39m \u001b[38;5;28;01mfrom\u001b[39;00m\u001b[38;5;250m \u001b[39m\u001b[34;01mmatplotlib\u001b[39;00m\u001b[38;5;250m \u001b[39m\u001b[38;5;28;01mimport\u001b[39;00m cm\n\u001b[32m----> \u001b[39m\u001b[32m5\u001b[39m \u001b[38;5;28;01mimport\u001b[39;00m\u001b[38;5;250m \u001b[39m\u001b[34;01mseaborn\u001b[39;00m\u001b[38;5;250m \u001b[39m\u001b[38;5;28;01mas\u001b[39;00m\u001b[38;5;250m \u001b[39m\u001b[34;01msns\u001b[39;00m\n",
      "\u001b[31mModuleNotFoundError\u001b[39m: No module named 'seaborn'"
     ]
    }
   ],
   "source": [
    "import pandas as pd\n",
    "import numpy as np\n",
    "import matplotlib.pyplot as plt\n",
    "from matplotlib import cm\n",
    "import seaborn as sns"
   ]
  },
  {
   "cell_type": "code",
   "execution_count": null,
   "id": "96923c8a",
   "metadata": {},
   "outputs": [],
   "source": [
    "data = pd.read_csv('insurance.csv')\n",
    "data.head()"
   ]
  },
  {
   "cell_type": "code",
   "execution_count": null,
   "id": "dd5df982",
   "metadata": {},
   "outputs": [],
   "source": [
    "data.describe()"
   ]
  },
  {
   "cell_type": "code",
   "execution_count": null,
   "id": "9bded0ec",
   "metadata": {},
   "outputs": [],
   "source": [
    "data.isna().sum()"
   ]
  },
  {
   "cell_type": "code",
   "execution_count": null,
   "id": "0de70f18",
   "metadata": {},
   "outputs": [],
   "source": [
    "data.duplicated().sum()"
   ]
  },
  {
   "cell_type": "code",
   "execution_count": null,
   "id": "564afec4",
   "metadata": {},
   "outputs": [],
   "source": [
    "data[data.duplicated(keep=False)]"
   ]
  },
  {
   "cell_type": "code",
   "execution_count": null,
   "id": "0f15b929",
   "metadata": {},
   "outputs": [],
   "source": [
    "data.drop_duplicates()"
   ]
  },
  {
   "cell_type": "code",
   "execution_count": null,
   "id": "e131b4db",
   "metadata": {},
   "outputs": [],
   "source": [
    "data['smoker'] = np.where(data['smoker']==\"no\", 0, 1)\n",
    "data['sex'] = np.where(data['sex']=='male', 0, 1)\n",
    "data.head()"
   ]
  },
  {
   "cell_type": "markdown",
   "id": "c3251e2f",
   "metadata": {},
   "source": [
    "# EDA of Age Groups"
   ]
  },
  {
   "cell_type": "code",
   "execution_count": null,
   "id": "6d289aab",
   "metadata": {},
   "outputs": [],
   "source": [
    "# If you haven't already created age groups:\n",
    "bins = [17, 24, 44, 65]\n",
    "labels = ['Young Adult (18–24)', 'Adult (25–44)', 'Middle-Aged (44–65)']\n",
    "data['age_group'] = pd.cut(data['age'], bins=bins, labels=labels, include_lowest=True)\n",
    "\n",
    "# Summary of charges by age group\n",
    "age_summary = (\n",
    "    data.groupby('age_group')['charges']\n",
    "        .agg(count='count', mean='mean', median='median', std='std', min='min', max='max')\n",
    "        .round(2)\n",
    ")\n",
    "print(age_summary)"
   ]
  },
  {
   "cell_type": "code",
   "execution_count": null,
   "id": "87a71013",
   "metadata": {},
   "outputs": [],
   "source": [
    "plt.figure(figsize=(8,6))\n",
    "plt.hist(data['age'], bins=20, color='steelblue', edgecolor='black')\n",
    "plt.title('Distribution of Age')\n",
    "plt.xlabel('Age')\n",
    "plt.ylabel('Frequency')\n",
    "plt.show()"
   ]
  },
  {
   "cell_type": "code",
   "execution_count": null,
   "id": "9a0cdc88",
   "metadata": {},
   "outputs": [],
   "source": [
    "plt.figure(figsize=(8,6))\n",
    "sns.regplot(x='age', y='charges', data=data, scatter_kws={'alpha':0.5}, line_kws={'color':'red'})\n",
    "plt.title('Correlation Between Age and Charges')\n",
    "plt.xlabel('Age')\n",
    "plt.ylabel('Charges')\n",
    "plt.show()\n"
   ]
  },
  {
   "cell_type": "code",
   "execution_count": null,
   "id": "af7f92d8",
   "metadata": {},
   "outputs": [],
   "source": [
    "plt.figure(figsize=(8,6))\n",
    "viridis_colors = cm.viridis_r(np.linspace(0, 1, len(labels)))\n",
    "sns.boxplot(x='age_group', y='charges', data=data, palette=viridis_colors)\n",
    "plt.title('Distribution of Insurance Charges by Age Group', fontsize=12)\n",
    "plt.xlabel('Age Group')\n",
    "plt.ylabel('Charges')\n",
    "plt.show()\n"
   ]
  },
  {
   "cell_type": "code",
   "execution_count": null,
   "id": "fd05a49a",
   "metadata": {},
   "outputs": [],
   "source": [
    "# Create 3x1 grid\n",
    "fig, axes = plt.subplots(1, 3, figsize=(18, 6), sharey=True)\n",
    "\n",
    "# Get the unique age groups in order\n",
    "groups = data['age_group'].cat.categories\n",
    "\n",
    "# Loop through each group and plot on its own axis\n",
    "for i, group in enumerate(groups):\n",
    "    subset = data[data['age_group'] == group]\n",
    "    sns.scatterplot(ax=axes[i], data=subset, x='age', y='charges', \n",
    "                    color=cm.viridis_r(np.linspace(0, 1, len(groups)))[i], alpha=0.6)\n",
    "    \n",
    "    # Optional regression line\n",
    "    sns.regplot(ax=axes[i], data=subset, x='age', y='charges', \n",
    "                scatter=False, color='red', line_kws={'lw':2})\n",
    "    \n",
    "    # Add title for each subplot\n",
    "    axes[i].set_title(f\"{group}\", fontsize=12)\n",
    "    axes[i].set_xlabel(\"Age\")\n",
    "    axes[i].set_ylabel(\"Charges\")\n",
    "\n",
    "# Adjust layout\n",
    "plt.suptitle(\"Scatterplots of Age vs Charges by Age Group\", fontsize=14)\n",
    "plt.tight_layout(rect=[0, 0, 1, 0.96])\n",
    "plt.show()\n"
   ]
  },
  {
   "cell_type": "markdown",
   "id": "2de04511",
   "metadata": {},
   "source": [
    "# EDA of Smoker vs Non-smoker"
   ]
  },
  {
   "cell_type": "code",
   "execution_count": null,
   "id": "d1452f1b",
   "metadata": {},
   "outputs": [],
   "source": [
    "smoker_summary = (data\n",
    "           .groupby('smoker')['charges']\n",
    "           .agg(['count','mean','median','std','min','max'])\n",
    "           .round(2))\n",
    "print(smoker_summary)"
   ]
  },
  {
   "cell_type": "code",
   "execution_count": null,
   "id": "f5b51f47",
   "metadata": {},
   "outputs": [],
   "source": [
    "palette = sns.color_palette(\"viridis\", 2)\n",
    "plt.figure(figsize=(15,7))\n",
    "sns.histplot(data=data, x='charges', hue='smoker', bins=30, kde=True, stat='count', common_norm=False, palette=palette)\n",
    "plt.title('Charges Distribution by Smoker Status')\n",
    "plt.xlabel('Charges')\n",
    "plt.ylabel('Count')\n",
    "plt.legend(title='Smoker Status', labels=['Smoker', 'Non-Smoker'])\n",
    "plt.tight_layout()\n",
    "plt.show()"
   ]
  },
  {
   "cell_type": "code",
   "execution_count": null,
   "id": "8bc8490a",
   "metadata": {},
   "outputs": [],
   "source": [
    "plt.figure(figsize=(8,6))\n",
    "sns.boxplot(data=data, x='smoker', y='charges', palette=palette)\n",
    "plt.title('Charges by Smoker Status')\n",
    "plt.xlabel('')\n",
    "plt.xticks(ticks=[0, 1], labels=['Non-smoker', 'Smoker'])\n",
    "plt.ylabel('Charges')\n",
    "plt.tight_layout()\n",
    "plt.show()"
   ]
  },
  {
   "cell_type": "code",
   "execution_count": null,
   "id": "b33a89a5",
   "metadata": {},
   "outputs": [],
   "source": []
  }
 ],
 "metadata": {
  "kernelspec": {
   "display_name": "Python (fresh_env)",
   "language": "python",
   "name": "fresh_env"
  },
  "language_info": {
   "codemirror_mode": {
    "name": "ipython",
    "version": 3
   },
   "file_extension": ".py",
   "mimetype": "text/x-python",
   "name": "python",
   "nbconvert_exporter": "python",
   "pygments_lexer": "ipython3",
   "version": "3.12.5"
  }
 },
 "nbformat": 4,
 "nbformat_minor": 5
}
